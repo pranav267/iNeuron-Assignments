{
  "nbformat": 4,
  "nbformat_minor": 0,
  "metadata": {
    "colab": {
      "name": "Python Assignment - 1.ipynb",
      "provenance": []
    },
    "kernelspec": {
      "name": "python3",
      "display_name": "Python 3"
    }
  },
  "cells": [
    {
      "cell_type": "markdown",
      "metadata": {
        "id": "xRUzqEb6gQZu"
      },
      "source": [
        ">> 1. Write a program which will find all such numbers which are divisible by 7 but are not a multiple of 5, between 2000 and 3200 (both included). The numbers obtained should be printed  in a comma-separated sequence on a single line."
      ]
    },
    {
      "cell_type": "code",
      "metadata": {
        "colab": {
          "base_uri": "https://localhost:8080/"
        },
        "id": "1uytv_0Nf_0W",
        "outputId": "ac5ef3b2-2ee6-4dd0-a45d-0c939cefe752"
      },
      "source": [
        "arr = []\r\n",
        "for i in range(2000, 3201):\r\n",
        "    if i % 7 == 0 and i % 5 != 0 :\r\n",
        "        arr.append(i)\r\n",
        "print(str(arr)[1:-1], sep = \",\")"
      ],
      "execution_count": 16,
      "outputs": [
        {
          "output_type": "stream",
          "text": [
            "2002, 2009, 2016, 2023, 2037, 2044, 2051, 2058, 2072, 2079, 2086, 2093, 2107, 2114, 2121, 2128, 2142, 2149, 2156, 2163, 2177, 2184, 2191, 2198, 2212, 2219, 2226, 2233, 2247, 2254, 2261, 2268, 2282, 2289, 2296, 2303, 2317, 2324, 2331, 2338, 2352, 2359, 2366, 2373, 2387, 2394, 2401, 2408, 2422, 2429, 2436, 2443, 2457, 2464, 2471, 2478, 2492, 2499, 2506, 2513, 2527, 2534, 2541, 2548, 2562, 2569, 2576, 2583, 2597, 2604, 2611, 2618, 2632, 2639, 2646, 2653, 2667, 2674, 2681, 2688, 2702, 2709, 2716, 2723, 2737, 2744, 2751, 2758, 2772, 2779, 2786, 2793, 2807, 2814, 2821, 2828, 2842, 2849, 2856, 2863, 2877, 2884, 2891, 2898, 2912, 2919, 2926, 2933, 2947, 2954, 2961, 2968, 2982, 2989, 2996, 3003, 3017, 3024, 3031, 3038, 3052, 3059, 3066, 3073, 3087, 3094, 3101, 3108, 3122, 3129, 3136, 3143, 3157, 3164, 3171, 3178, 3192, 3199\n"
          ],
          "name": "stdout"
        }
      ]
    },
    {
      "cell_type": "markdown",
      "metadata": {
        "id": "ELqcC8I-kkYH"
      },
      "source": [
        "> OUTPUT <br>\r\n",
        "2002, 2009, 2016, 2023, 2037, 2044, 2051, 2058, 2072, 2079, 2086, 2093, 2107, 2114, 2121, 2128, 2142, 2149, 2156, 2163, 2177, 2184, 2191, 2198, 2212, 2219, 2226, 2233, 2247, 2254, 2261, 2268, 2282, 2289, 2296, 2303, 2317, 2324, 2331, 2338, 2352, 2359, 2366, 2373, 2387, 2394, 2401, 2408, 2422, 2429, 2436, 2443, 2457, 2464, 2471, 2478, 2492, 2499, 2506, 2513, 2527, 2534, 2541, 2548, 2562, 2569, 2576, 2583, 2597, 2604, 2611, 2618, 2632, 2639, 2646, 2653, 2667, 2674, 2681, 2688, 2702, 2709, 2716, 2723, 2737, 2744, 2751, 2758, 2772, 2779, 2786, 2793, 2807, 2814, 2821, 2828, 2842, 2849, 2856, 2863, 2877, 2884, 2891, 2898, 2912, 2919, 2926, 2933, 2947, 2954, 2961, 2968, 2982, 2989, 2996, 3003, 3017, 3024, 3031, 3038, 3052, 3059, 3066, 3073, 3087, 3094, 3101, 3108, 3122, 3129, 3136, 3143, 3157, 3164, 3171, 3178, 3192, 3199\r\n"
      ]
    },
    {
      "cell_type": "markdown",
      "metadata": {
        "id": "5fgD9c9zhavT"
      },
      "source": [
        ">> 2. Write a Python program to accept the user's first and last name and then getting them printed in the the reverse order with a space between first name and last name. \r\n"
      ]
    },
    {
      "cell_type": "code",
      "metadata": {
        "colab": {
          "base_uri": "https://localhost:8080/"
        },
        "id": "L0HhD9fuhBwE",
        "outputId": "2f395106-19da-482f-d194-b1553454ca78"
      },
      "source": [
        "first_name = input('First Name : ')\r\n",
        "last_name = input('Last Name : ')\r\n",
        "print(first_name[::-1] + ' ' + last_name[::-1])"
      ],
      "execution_count": 19,
      "outputs": [
        {
          "output_type": "stream",
          "text": [
            "First Name : Pranav\n",
            "Last Name : Prakash\n",
            "vanarP hsakarP\n"
          ],
          "name": "stdout"
        }
      ]
    },
    {
      "cell_type": "markdown",
      "metadata": {
        "id": "Pa6ba2w4ksPk"
      },
      "source": [
        "> OUTPUT <br>\r\n",
        "First Name : Pranav <br>\r\n",
        "Last Name : Prakash <br>\r\n",
        "vanarP hsakarP\r\n"
      ]
    },
    {
      "cell_type": "markdown",
      "metadata": {
        "id": "NcT2Z4e5jWf2"
      },
      "source": [
        ">> 3. Write a Python program to find the volume of a sphere with diameter 12 cm <br>Formula: V=4/3 * π * r ^ 3 "
      ]
    },
    {
      "cell_type": "code",
      "metadata": {
        "colab": {
          "base_uri": "https://localhost:8080/"
        },
        "id": "q3aKu_D4hm7v",
        "outputId": "b4b22206-6069-4262-96ef-65930dde954c"
      },
      "source": [
        "import math\r\n",
        "d = 12\r\n",
        "r = d / 2\r\n",
        "V = 4 / 3 * math.pi * r ** 3\r\n",
        "print('Volume - ' + str(V) + ' cm\\u00b3')"
      ],
      "execution_count": 20,
      "outputs": [
        {
          "output_type": "stream",
          "text": [
            "Volume - 904.7786842338603 cm³\n"
          ],
          "name": "stdout"
        }
      ]
    },
    {
      "cell_type": "markdown",
      "metadata": {
        "id": "XvP9vfSHkzvy"
      },
      "source": [
        ">OUTPUT <br>\r\n",
        "Volume - 904.7786842338603 cm³\r\n"
      ]
    },
    {
      "cell_type": "code",
      "metadata": {
        "id": "w8CD7FBMj5lh"
      },
      "source": [
        "|"
      ],
      "execution_count": null,
      "outputs": []
    }
  ]
}